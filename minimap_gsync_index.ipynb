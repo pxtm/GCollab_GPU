{
  "nbformat": 4,
  "nbformat_minor": 0,
  "metadata": {
    "colab": {
      "name": "Untitled3.ipynb",
      "provenance": [],
      "authorship_tag": "ABX9TyPnAQSGmWGOBqAuc65dGIrq",
      "include_colab_link": true
    },
    "kernelspec": {
      "name": "python3",
      "display_name": "Python 3"
    },
    "language_info": {
      "name": "python"
    }
  },
  "cells": [
    {
      "cell_type": "markdown",
      "metadata": {
        "id": "view-in-github",
        "colab_type": "text"
      },
      "source": [
        "<a href=\"https://colab.research.google.com/github/pxtm/GCollab_GPU/blob/main/minimap_gsync_index.ipynb\" target=\"_parent\"><img src=\"https://colab.research.google.com/assets/colab-badge.svg\" alt=\"Open In Colab\"/></a>"
      ]
    },
    {
      "cell_type": "code",
      "execution_count": 2,
      "metadata": {
        "colab": {
          "base_uri": "https://localhost:8080/"
        },
        "id": "F84KVpSQBkk-",
        "outputId": "7a7d08e7-76d0-49f7-98b2-0bfb643e34eb"
      },
      "outputs": [
        {
          "output_type": "stream",
          "name": "stdout",
          "text": [
            "  % Total    % Received % Xferd  Average Speed   Time    Time     Time  Current\n",
            "                                 Dload  Upload   Total   Spent    Left  Speed\n",
            "100   668  100   668    0     0   4948      0 --:--:-- --:--:-- --:--:--  4948\n",
            "100 2081k  100 2081k    0     0  4113k      0 --:--:-- --:--:-- --:--:-- 4113k\n",
            "minimap2-2.23_x64-linux/\n",
            "minimap2-2.23_x64-linux/paftools.js\n",
            "minimap2-2.23_x64-linux/README.md\n",
            "minimap2-2.23_x64-linux/cookbook.md\n",
            "minimap2-2.23_x64-linux/LICENSE.txt\n",
            "minimap2-2.23_x64-linux/k8\n",
            "minimap2-2.23_x64-linux/NEWS.md\n",
            "minimap2-2.23_x64-linux/README-js.md\n",
            "minimap2-2.23_x64-linux/minimap2\n",
            "minimap2-2.23_x64-linux/minimap2.1\n",
            "cookbook.md  LICENSE.txt  minimap2.1  paftools.js   README.md\n",
            "k8\t     minimap2\t  NEWS.md     README-js.md\n"
          ]
        }
      ],
      "source": [
        "!curl -L https://github.com/lh3/minimap2/releases/download/v2.23/minimap2-2.23_x64-linux.tar.bz2 --output minimap2.tar.bz2\n",
        "!tar -jxvf minimap2.tar.bz2\n",
        "!ls minimap2-2.23_x64-linux \n"
      ]
    },
    {
      "cell_type": "code",
      "metadata": {
        "id": "5b28_oXgpDtW",
        "colab": {
          "base_uri": "https://localhost:8080/"
        },
        "outputId": "7b20b2e4-684b-4d3e-f108-462fc0e1af99"
      },
      "source": [
        "from google.colab import drive\n",
        "drive.mount('/content/gdrive', force_remount=True)"
      ],
      "execution_count": 3,
      "outputs": [
        {
          "output_type": "stream",
          "name": "stdout",
          "text": [
            "Mounted at /content/gdrive\n"
          ]
        }
      ]
    },
    {
      "cell_type": "code",
      "source": [
        "!ls gdrive/MyDrive/genomesync"
      ],
      "metadata": {
        "colab": {
          "base_uri": "https://localhost:8080/"
        },
        "id": "ZMy9FrLUCU2H",
        "outputId": "2617b679-0c44-4997-9fb0-cede58962372"
      },
      "execution_count": 5,
      "outputs": [
        {
          "output_type": "stream",
          "name": "stdout",
          "text": [
            "genomesync_fastas.fasta\n"
          ]
        }
      ]
    },
    {
      "cell_type": "code",
      "source": [
        "!minimap2-2.23_x64-linux/minimap2 -d gdrive/MyDrive/genomesync/genomesync.mmi gdrive/MyDrive/genomesync/genomesync_fastas.fasta \n"
      ],
      "metadata": {
        "colab": {
          "base_uri": "https://localhost:8080/"
        },
        "id": "1bo60s5dCfhM",
        "outputId": "d3416a1d-eff7-4bac-c5af-47b7b987ddb5"
      },
      "execution_count": 7,
      "outputs": [
        {
          "output_type": "stream",
          "name": "stdout",
          "text": [
            "[M::mm_idx_gen::8.368*0.97] collected minimizers\n",
            "[M::mm_idx_gen::10.013*1.12] sorted minimizers\n",
            "[M::main::16.686*0.85] loaded/built the index for 64 target sequence(s)\n",
            "[M::mm_idx_stat] kmer size: 15; skip: 10; is_hpc: 0; #seq: 64\n",
            "[M::mm_idx_stat::16.975*0.85] distinct minimizers: 16922209 (82.23% are singletons); average occurrences: 1.284; average spacing: 5.351; total length: 116228927\n",
            "[M::main] Version: 2.23-r1111\n",
            "[M::main] CMD: minimap2-2.23_x64-linux/minimap2 -d gdrive/MyDrive/genomesync/genomesync.mmi gdrive/MyDrive/genomesync/genomesync_fastas.fasta\n",
            "[M::main] Real time: 17.201 sec; CPU: 14.622 sec; Peak RSS: 0.858 GB\n"
          ]
        }
      ]
    }
  ]
}