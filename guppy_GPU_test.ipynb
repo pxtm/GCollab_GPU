{
  "nbformat": 4,
  "nbformat_minor": 0,
  "metadata": {
    "colab": {
      "name": "guppy_GPU_test.ipynb",
      "provenance": [],
      "collapsed_sections": []
    },
    "kernelspec": {
      "name": "python3",
      "display_name": "Python 3"
    },
    "language_info": {
      "name": "python"
    }
  },
  "cells": [
    {
      "cell_type": "code",
      "metadata": {
        "id": "kT1bfIRdmJrg"
      },
      "source": [
        "import tensorflow as tf\n",
        "tf.test.gpu_device_name()       # this will tell you device number (should be 0 with a single GPU)\n",
        "\n",
        "import torch\n",
        "torch.cuda.get_device_name(0)   # this will tell you the name/model of the GPU"
      ],
      "execution_count": null,
      "outputs": []
    },
    {
      "cell_type": "code",
      "metadata": {
        "id": "KELJbk7Cn9rU"
      },
      "source": [
        "%%shell\n",
        "GuppyBinary=https://mirror.oxfordnanoportal.com/software/analysis/ont-guppy_4.5.3_linux64.tar.gz \n",
        "wget $GuppyBinary"
      ],
      "execution_count": null,
      "outputs": []
    },
    {
      "cell_type": "code",
      "metadata": {
        "id": "ZosmQr4Sosi7"
      },
      "source": [
        "%%shell\n",
        "tar -xzvf ont-guppy_4.5.3_linux64.tar.gz\n"
      ],
      "execution_count": null,
      "outputs": []
    },
    {
      "cell_type": "code",
      "metadata": {
        "id": "5b28_oXgpDtW"
      },
      "source": [
        "from google.colab import drive\n",
        "drive.mount('/content/gdrive', force_remount=True)"
      ],
      "execution_count": null,
      "outputs": []
    },
    {
      "cell_type": "code",
      "metadata": {
        "id": "_RvU7Q4np8Ik"
      },
      "source": [
        "%%shell\n",
        "ls gdrive/MyDrive/ONT\n",
        "ls gdrive/MyDrive/ONT/testdata"
      ],
      "execution_count": null,
      "outputs": []
    },
    {
      "cell_type": "code",
      "metadata": {
        "id": "KpzR0gFoo-oP"
      },
      "source": [
        "%%shell\n",
        "./ont-guppy/bin/guppy_basecaller --version\n"
      ],
      "execution_count": null,
      "outputs": []
    },
    {
      "cell_type": "code",
      "metadata": {
        "id": "_qsuyUyYqCfr"
      },
      "source": [
        "%%shell\n",
        "inputPath=\"gdrive/MyDrive/ONT/testdata\"\n",
        "outputPath=\"gdrive/MyDrive/ONT/testdata/basecall\"\n",
        "guppy_bc=./ont-guppy/bin/guppy_basecaller                               # set guppy_basecaller binary location\n",
        "guppy_cfg_fast=./ont-guppy/data/dna_r9.4.1_450bps_fast.cfg              # fast model calling\n",
        "guppy_cfg_hac=./ont-guppy/data/dna_r9.4.1_450bps_hac.cfg                # high accuracy calling\n",
        "guppy_cfg_mod=./ont-guppy/data/dna_r9.4.1_450bps_modbases_5mc_hac.cfg   # base modification calling\n",
        "\n",
        "$guppy_bc -i $inputPath -s $outputPath  \\\n",
        "--recursive \\\n",
        "--config $guppy_cfg_hac \\\n",
        "--gpu_runners_per_device 16 \\\n",
        "--cpu_threads_per_caller 2 \\\n",
        "--device cuda:0"
      ],
      "execution_count": null,
      "outputs": []
    }
  ]
}